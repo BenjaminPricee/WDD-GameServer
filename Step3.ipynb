{
 "cells": [
  {
   "cell_type": "code",
   "execution_count": 1,
   "metadata": {},
   "outputs": [],
   "source": [
    "import requests\n",
    "import random\n",
    "\n",
    "name = str(\"Step 3\")"
   ]
  },
  {
   "cell_type": "code",
   "execution_count": 2,
   "metadata": {},
   "outputs": [
    {
     "data": {
      "text/plain": [
       "<Response [200]>"
      ]
     },
     "execution_count": 2,
     "metadata": {},
     "output_type": "execute_result"
    }
   ],
   "source": [
    "scount = 0\n",
    "\n",
    "scount =  random.choice([10, 11, 12, 13, 14, 15, 16, 17, 18])\n",
    "\n",
    "\n",
    "requests.get(f\"https://final-project-metrics.anvil.app/_/api/newscount/{name}/{scount}\")"
   ]
  },
  {
   "cell_type": "code",
   "execution_count": 3,
   "metadata": {},
   "outputs": [
    {
     "name": "stdout",
     "output_type": "stream",
     "text": [
      "[{'Name: ': 'Step 3', 'Survivor Count ': 11}, {'Name: ': 'Step 3', 'Survivor Count ': 10}, {'Name: ': 'Bean', 'Survivor Count ': 20}, {'Name: ': 'Retro', 'Survivor Count ': 7}, {'Name: ': 'Step 3', 'Survivor Count ': 11}, {'Name: ': 'Step 3', 'Survivor Count ': 13}]\n"
     ]
    }
   ],
   "source": [
    "x = requests.get(f\"https://final-project-metrics.anvil.app/_/api/get_survivorslefttable\")\n",
    "print(x.json())"
   ]
  },
  {
   "cell_type": "code",
   "execution_count": 4,
   "metadata": {},
   "outputs": [
    {
     "data": {
      "text/plain": [
       "<Response [200]>"
      ]
     },
     "execution_count": 4,
     "metadata": {},
     "output_type": "execute_result"
    }
   ],
   "source": [
    "time = 0\n",
    "\n",
    "time =  random.choice([30.4,35.3,29.9,48.7,45.6])\n",
    "\n",
    "\n",
    "requests.get(f\"https://final-project-metrics.anvil.app/_/api/newtime/{name}/{time}\")"
   ]
  },
  {
   "cell_type": "code",
   "execution_count": 5,
   "metadata": {},
   "outputs": [
    {
     "name": "stdout",
     "output_type": "stream",
     "text": [
      "[{'Name: ': 'Step 3', 'TimeCompleted: ': '29.9'}, {'Name: ': 'Step 3', 'TimeCompleted: ': '48.7'}, {'Name: ': 'Bean', 'TimeCompleted: ': '30.1'}, {'Name: ': 'Sakiro', 'TimeCompleted: ': '35.65'}, {'Name: ': 'Step 3', 'TimeCompleted: ': '35.3'}, {'Name: ': 'Step 3', 'TimeCompleted: ': '30.4'}]\n"
     ]
    }
   ],
   "source": [
    "y = requests.get(f\"https://final-project-metrics.anvil.app/_/api/get_timecompletiontable\")\n",
    "print(y.json())"
   ]
  },
  {
   "cell_type": "code",
   "execution_count": 6,
   "metadata": {},
   "outputs": [
    {
     "data": {
      "text/plain": [
       "<Response [200]>"
      ]
     },
     "execution_count": 6,
     "metadata": {},
     "output_type": "execute_result"
    }
   ],
   "source": [
    "bcount = 0\n",
    "\n",
    "bcount =  random.choice([10, 12, 14, 16, 18, 20])\n",
    "\n",
    "\n",
    "requests.get(f\"https://final-project-metrics.anvil.app/_/api/bulletcount/{name}/{bcount}\")"
   ]
  },
  {
   "cell_type": "code",
   "execution_count": 7,
   "metadata": {},
   "outputs": [
    {
     "name": "stdout",
     "output_type": "stream",
     "text": [
      "[{'Name: ': 'Step 3', 'TimeCompleted: ': '29.9'}, {'Name: ': 'Step 3', 'TimeCompleted: ': '48.7'}, {'Name: ': 'Bean', 'TimeCompleted: ': '30.1'}, {'Name: ': 'Sakiro', 'TimeCompleted: ': '35.65'}, {'Name: ': 'Step 3', 'TimeCompleted: ': '35.3'}, {'Name: ': 'Step 3', 'TimeCompleted: ': '30.4'}]\n"
     ]
    }
   ],
   "source": [
    "z = requests.get(f\"https://final-project-metrics.anvil.app/_/api/get_bulletcounttable\")\n",
    "print(y.json())"
   ]
  }
 ],
 "metadata": {
  "kernelspec": {
   "display_name": "Python 3",
   "language": "python",
   "name": "python3"
  },
  "language_info": {
   "codemirror_mode": {
    "name": "ipython",
    "version": 3
   },
   "file_extension": ".py",
   "mimetype": "text/x-python",
   "name": "python",
   "nbconvert_exporter": "python",
   "pygments_lexer": "ipython3",
   "version": "3.10.10"
  },
  "orig_nbformat": 4,
  "vscode": {
   "interpreter": {
    "hash": "81bd72421fd5d63e4ee9fa784821c92c07d954c88ac6df7776d2c7cf9a96f666"
   }
  }
 },
 "nbformat": 4,
 "nbformat_minor": 2
}
